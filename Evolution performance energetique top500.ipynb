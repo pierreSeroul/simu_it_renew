{
 "cells": [
  {
   "cell_type": "code",
   "execution_count": 1,
   "id": "4b0a31c1-2206-4454-8ea3-6c64ed904b0e",
   "metadata": {},
   "outputs": [
    {
     "name": "stderr",
     "output_type": "stream",
     "text": [
      "/tmp/ipykernel_6902/2293527265.py:1: DeprecationWarning: \n",
      "Pyarrow will become a required dependency of pandas in the next major release of pandas (pandas 3.0),\n",
      "(to allow more performant data types, such as the Arrow string type, and better interoperability with other libraries)\n",
      "but was not found to be installed on your system.\n",
      "If this would cause problems for you,\n",
      "please provide us feedback at https://github.com/pandas-dev/pandas/issues/54466\n",
      "        \n",
      "  import pandas as pd\n"
     ]
    }
   ],
   "source": [
    "import pandas as pd\n",
    "import numpy as np\n",
    "import os\n",
    "import matplotlib.pyplot as plt"
   ]
  },
  {
   "cell_type": "code",
   "execution_count": 2,
   "id": "28d1d2bc-bae9-47bf-81df-b140dcaa60ee",
   "metadata": {},
   "outputs": [
    {
     "name": "stdout",
     "output_type": "stream",
     "text": [
      "WARNING *** OLE2 inconsistency: SSCS size is 0 but SSAT size is non-zero\n",
      "TOP500_199311.xls  not parsed\n",
      "WARNING *** OLE2 inconsistency: SSCS size is 0 but SSAT size is non-zero\n",
      "TOP500_199411.xls  not parsed\n",
      "WARNING *** OLE2 inconsistency: SSCS size is 0 but SSAT size is non-zero\n",
      "TOP500_199511.xls  not parsed\n",
      "WARNING *** OLE2 inconsistency: SSCS size is 0 but SSAT size is non-zero\n",
      "TOP500_199611.xls  not parsed\n",
      "WARNING *** OLE2 inconsistency: SSCS size is 0 but SSAT size is non-zero\n",
      "TOP500_199711.xls  not parsed\n",
      "WARNING *** OLE2 inconsistency: SSCS size is 0 but SSAT size is non-zero\n",
      "TOP500_199811.xls  not parsed\n",
      "WARNING *** OLE2 inconsistency: SSCS size is 0 but SSAT size is non-zero\n",
      "TOP500_199911.xls  not parsed\n",
      "WARNING *** OLE2 inconsistency: SSCS size is 0 but SSAT size is non-zero\n",
      "TOP500_200011.xls  not parsed\n",
      "WARNING *** OLE2 inconsistency: SSCS size is 0 but SSAT size is non-zero\n",
      "TOP500_200111.xls  not parsed\n",
      "WARNING *** OLE2 inconsistency: SSCS size is 0 but SSAT size is non-zero\n",
      "TOP500_200211.xls  not parsed\n",
      "WARNING *** OLE2 inconsistency: SSCS size is 0 but SSAT size is non-zero\n",
      "TOP500_200311.xls  not parsed\n",
      "WARNING *** OLE2 inconsistency: SSCS size is 0 but SSAT size is non-zero\n",
      "TOP500_200411.xls  not parsed\n",
      "WARNING *** OLE2 inconsistency: SSCS size is 0 but SSAT size is non-zero\n",
      "TOP500_200511.xls  not parsed\n",
      "WARNING *** OLE2 inconsistency: SSCS size is 0 but SSAT size is non-zero\n",
      "TOP500_200611.xls  not parsed\n",
      "WARNING *** OLE2 inconsistency: SSCS size is 0 but SSAT size is non-zero\n",
      "TOP500_200711.xls  not parsed\n",
      "TOP500_200811.xls  -> manually compute efficiency\n",
      "TOP500_200811.xls  -> parsed\n",
      "TOP500_200911.xls  -> manually compute efficiency\n",
      "TOP500_200911.xls  -> parsed\n",
      "TOP500_201011.xls  -> manually compute efficiency\n",
      "TOP500_201011.xls  -> parsed\n",
      "TOP500_201111.xls  -> change mflops to energy\n",
      "TOP500_201111.xls  -> parsed\n",
      "TOP500_201211.xls  -> change mflops to energy\n",
      "TOP500_201211.xls  -> parsed\n",
      "TOP500_201311.xls  -> change mflops to energy\n",
      "TOP500_201311.xls  -> parsed\n"
     ]
    },
    {
     "name": "stderr",
     "output_type": "stream",
     "text": [
      "/tmp/ipykernel_6902/1111351260.py:27: FutureWarning: The behavior of DataFrame concatenation with empty or all-NA entries is deprecated. In a future version, this will no longer exclude empty or all-NA columns when determining the result dtypes. To retain the old behavior, exclude the relevant entries before the concat operation.\n",
      "  hpcs = pd.concat([df[['Year', 'Computer', 'Energy Efficiency [GFlops/Watts]']], hpcs]).drop_duplicates('Computer').reset_index(drop=True)\n"
     ]
    },
    {
     "name": "stdout",
     "output_type": "stream",
     "text": [
      "TOP500_201411.xls  -> change mflops to energy\n",
      "TOP500_201411.xls  -> parsed\n",
      "TOP500_201511.xls  -> change mflops to energy\n",
      "TOP500_201511.xls  -> parsed\n",
      "TOP500_201611.xls  -> change mflops to energy\n",
      "TOP500_201611.xls  -> parsed\n",
      "TOP500_201711.xls  -> change power to energy\n",
      "TOP500_201711.xls  -> parsed\n",
      "TOP500_201811.xls  -> change power to energy\n",
      "TOP500_201811.xls  -> parsed\n",
      "TOP500_201911.xls  -> change power to energy\n",
      "TOP500_201911.xls  -> parsed\n",
      "TOP500_202011.xlsx  -> change power to energy\n",
      "TOP500_202011.xlsx  -> parsed\n",
      "TOP500_202111.xlsx  -> change power to energy\n",
      "TOP500_202111.xlsx  -> parsed\n",
      "TOP500_202211.xlsx  -> parsed\n",
      "TOP500_202311.xlsx  -> parsed\n"
     ]
    }
   ],
   "source": [
    "dir = \"top500\"\n",
    "hpcs = pd.DataFrame(columns=['Year', 'Computer', 'Energy Efficiency [GFlops/Watts]'])\n",
    "for filename in sorted(os.listdir(dir)): \n",
    "    if 'TOP500' not in filename:\n",
    "        continue\n",
    "        \n",
    "    df = pd.read_excel(os.path.join(dir, filename))\n",
    "\n",
    "    #uniformize\n",
    "    if 'Power Effeciency [GFlops/Watts]' in df.columns:\n",
    "        df = df.rename(columns={'Power Effeciency [GFlops/Watts]': 'Energy Efficiency [GFlops/Watts]'})\n",
    "        print(filename, ' -> change power to energy')\n",
    "\n",
    "    elif 'Power Efficiency [GFlops/Watts]' in df.columns:\n",
    "        df = df.rename(columns={'Power Efficiency [GFlops/Watts]': 'Energy Efficiency [GFlops/Watts]'})\n",
    "        print(filename, ' -> change power to energy')\n",
    "\n",
    "    elif 'Mflops/Watt' in df.columns:\n",
    "        df = df.rename(columns={'Mflops/Watt': 'Energy Efficiency [GFlops/Watts]'})\n",
    "        df['Energy Efficiency [GFlops/Watts]'] /= 1000.0\n",
    "        print(filename, ' -> change mflops to energy')\n",
    "\n",
    "    elif \"Power\" in df.columns and \"RMax\" in df.columns:\n",
    "        df['Energy Efficiency [GFlops/Watts]'] = df['RMax'] / df['Power'] / 1000.0\n",
    "        print(filename, ' -> manually compute efficiency')\n",
    "\n",
    "    #concatenate\n",
    "    if 'Energy Efficiency [GFlops/Watts]' in df.columns:\n",
    "        hpcs = pd.concat([df[['Year', 'Computer', 'Energy Efficiency [GFlops/Watts]']], hpcs]).drop_duplicates('Computer').reset_index(drop=True)\n",
    "        print(filename, ' -> parsed')\n",
    "    else: \n",
    "        print(filename, \" not parsed\")"
   ]
  },
  {
   "cell_type": "code",
   "execution_count": 3,
   "id": "4570ba96-00ef-4e4a-9b71-ed4a4fff57d1",
   "metadata": {},
   "outputs": [
    {
     "name": "stderr",
     "output_type": "stream",
     "text": [
      "/tmp/ipykernel_6902/2432195375.py:1: FutureWarning: Downcasting behavior in `replace` is deprecated and will be removed in a future version. To retain the old behavior, explicitly call `result.infer_objects(copy=False)`. To opt-in to the future behavior, set `pd.set_option('future.no_silent_downcasting', True)`\n",
      "  hpcs = hpcs.replace([np.inf, -np.inf], np.nan).dropna()\n"
     ]
    },
    {
     "data": {
      "text/plain": [
       "count    897.000000\n",
       "mean       3.374089\n",
       "std        7.056150\n",
       "min        0.011206\n",
       "25%        0.286740\n",
       "50%        0.995520\n",
       "75%        2.979570\n",
       "max       65.395961\n",
       "Name: Energy Efficiency [GFlops/Watts], dtype: float64"
      ]
     },
     "execution_count": 3,
     "metadata": {},
     "output_type": "execute_result"
    }
   ],
   "source": [
    "hpcs = hpcs.replace([np.inf, -np.inf], np.nan).dropna()\n",
    "hpcs['Energy Efficiency [GFlops/Watts]'].describe()"
   ]
  },
  {
   "cell_type": "code",
   "execution_count": 15,
   "id": "12015130-7151-4d8c-9a3c-febc0b9145d4",
   "metadata": {},
   "outputs": [
    {
     "name": "stdout",
     "output_type": "stream",
     "text": [
      "     Energy Efficiency [GFlops/Watts]          \n",
      "                                 mean       std\n",
      "Year                                           \n",
      "2002                         0.011206       NaN\n",
      "2005                         0.203770       NaN\n",
      "2006                         0.038030       NaN\n",
      "2007                         0.076836  0.051947\n",
      "2008                         0.161970  0.114310\n"
     ]
    },
    {
     "data": {
      "image/png": "[encoded data removed]",
      "text/plain": [
       "<Figure size 640x480 with 1 Axes>"
      ]
     },
     "metadata": {},
     "output_type": "display_data"
    }
   ],
   "source": [
    "stats = hpcs[['Year', 'Energy Efficiency [GFlops/Watts]']].groupby('Year').agg(['mean', 'std'])\n",
    "print(stats.head())\n",
    "plt.errorbar(stats.index, stats['Energy Efficiency [GFlops/Watts]']['mean'], stats['Energy Efficiency [GFlops/Watts]']['std'])\n",
    "stats.to_csv('Energy efficiency.csv')"
   ]
  },
  {
   "cell_type": "code",
   "execution_count": null,
   "id": "5c0a8c96-eddc-420c-835a-9d2690cf0da1",
   "metadata": {},
   "outputs": [],
   "source": []
  }
 ],
 "metadata": {
  "kernelspec": {
   "display_name": "Python 3 (ipykernel)",
   "language": "python",
   "name": "python3"
  },
  "language_info": {
   "codemirror_mode": {
    "name": "ipython",
    "version": 3
   },
   "file_extension": ".py",
   "mimetype": "text/x-python",
   "name": "python",
   "nbconvert_exporter": "python",
   "pygments_lexer": "ipython3",
   "version": "3.10.12"
  }
 },
 "nbformat": 4,
 "nbformat_minor": 5
}
